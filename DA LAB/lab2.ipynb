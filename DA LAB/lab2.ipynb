{
 "cells": [
  {
   "cell_type": "code",
   "execution_count": null,
   "metadata": {},
   "outputs": [
    {
     "name": "stdout",
     "output_type": "stream",
     "text": [
      "Requirement already satisfied: scipy in c:\\users\\sudar\\appdata\\local\\programs\\python\\python312\\lib\\site-packages (1.14.1)\n",
      "Requirement already satisfied: numpy<2.3,>=1.23.5 in c:\\users\\sudar\\appdata\\local\\programs\\python\\python312\\lib\\site-packages (from scipy) (2.1.3)\n"
     ]
    },
    {
     "data": {
      "text/plain": [
       "3      47\n",
       "4      76\n",
       "7      40\n",
       "8      64\n",
       "10     58\n",
       "       ..\n",
       "985    57\n",
       "987    81\n",
       "990    86\n",
       "994    63\n",
       "996    62\n",
       "Name: math score, Length: 482, dtype: int64"
      ]
     },
     "execution_count": 2,
     "metadata": {},
     "output_type": "execute_result"
    }
   ],
   "source": [
    "from scipy.stats import ttest_ind\n",
    "import pandas as pd\n",
    "\n",
    "# Load the dataset\n",
    "df = pd.read_csv('StudentsPerformance.csv')\n",
    "# Separate data for male and female students\n",
    "\n",
    "# Separate data for male students\n",
    "male_scores = df[df['gender'] == 'male']['math score']\n",
    "male_scores\n",
    "\n",
    "\n"
   ]
  },
  {
   "cell_type": "code",
   "execution_count": 3,
   "metadata": {},
   "outputs": [
    {
     "data": {
      "text/plain": [
       "0      72\n",
       "1      69\n",
       "2      90\n",
       "5      71\n",
       "6      88\n",
       "       ..\n",
       "993    62\n",
       "995    88\n",
       "997    59\n",
       "998    68\n",
       "999    77\n",
       "Name: math score, Length: 518, dtype: int64"
      ]
     },
     "execution_count": 3,
     "metadata": {},
     "output_type": "execute_result"
    }
   ],
   "source": [
    "female_scores = df[df['gender'] == 'female']['math score']\n",
    "female_scores\n"
   ]
  },
  {
   "cell_type": "code",
   "execution_count": 6,
   "metadata": {},
   "outputs": [
    {
     "name": "stdout",
     "output_type": "stream",
     "text": [
      "T-Statistic: 5.383245869828983\n",
      "P-Value: 9.120185549328822e-08\n",
      "\n",
      "\n",
      "There is a significant difference in math scores between male and female students.\n"
     ]
    }
   ],
   "source": [
    "t_statistic, p_value = ttest_ind(male_scores, female_scores)\n",
    "# Print the results\n",
    "print(f'T-Statistic: {t_statistic}')\n",
    "print(f'P-Value: {p_value}\\n\\n')\n",
    "alpha = 0.05\n",
    "if p_value < alpha:\n",
    " print(\"There is a significant difference in math scores between male and female students.\")\n",
    "else:\n",
    " print(\"There is no significant difference in math scores between male and female students.\")\n"
   ]
  },
  {
   "cell_type": "code",
   "execution_count": 7,
   "metadata": {},
   "outputs": [
    {
     "data": {
      "text/plain": [
       "array(['group B', 'group C', 'group A', 'group D', 'group E'],\n",
       "      dtype=object)"
      ]
     },
     "execution_count": 7,
     "metadata": {},
     "output_type": "execute_result"
    }
   ],
   "source": [
    "ethnicity_groups = df['ethnicity'].unique()\n",
    "ethnicity_groups\n",
    "\n"
   ]
  },
  {
   "cell_type": "code",
   "execution_count": 8,
   "metadata": {},
   "outputs": [
    {
     "data": {
      "text/plain": [
       "{'group B': 0      72\n",
       " 2      90\n",
       " 5      71\n",
       " 6      88\n",
       " 7      40\n",
       "        ..\n",
       " 969    75\n",
       " 976    60\n",
       " 980     8\n",
       " 982    79\n",
       " 991    65\n",
       " Name: math score, Length: 190, dtype: int64,\n",
       " 'group C': 1      69\n",
       " 4      76\n",
       " 10     58\n",
       " 15     69\n",
       " 16     88\n",
       "        ..\n",
       " 979    91\n",
       " 984    74\n",
       " 986    40\n",
       " 996    62\n",
       " 997    59\n",
       " Name: math score, Length: 319, dtype: int64,\n",
       " 'group A': 3      47\n",
       " 13     78\n",
       " 14     50\n",
       " 25     73\n",
       " 46     55\n",
       "        ..\n",
       " 974    54\n",
       " 983    78\n",
       " 985    57\n",
       " 988    44\n",
       " 994    63\n",
       " Name: math score, Length: 89, dtype: int64,\n",
       " 'group D': 8      64\n",
       " 11     40\n",
       " 20     66\n",
       " 22     44\n",
       " 24     74\n",
       "        ..\n",
       " 989    67\n",
       " 992    55\n",
       " 993    62\n",
       " 998    68\n",
       " 999    77\n",
       " Name: math score, Length: 262, dtype: int64,\n",
       " 'group E': 32      56\n",
       " 34      97\n",
       " 35      81\n",
       " 44      50\n",
       " 50      53\n",
       "       ... \n",
       " 962    100\n",
       " 968     68\n",
       " 987     81\n",
       " 990     86\n",
       " 995     88\n",
       " Name: math score, Length: 140, dtype: int64}"
      ]
     },
     "execution_count": 8,
     "metadata": {},
     "output_type": "execute_result"
    }
   ],
   "source": [
    "ethnicity_data = {ethnicity: df[df['ethnicity'] == ethnicity]['math score'] for ethnicity in ethnicity_groups}\n",
    "ethnicity_data"
   ]
  },
  {
   "cell_type": "code",
   "execution_count": null,
   "metadata": {},
   "outputs": [],
   "source": [
    "f_statistic, p_value_anova = f_oneway(*ethnicity_data.values())\n",
    "# Print the results\n",
    "print(f'F-Statistic: {f_statistic}')\n",
    "print(f'P-Value (ANOVA): {p_value_anova}')\n"
   ]
  }
 ],
 "metadata": {
  "kernelspec": {
   "display_name": "Python 3",
   "language": "python",
   "name": "python3"
  },
  "language_info": {
   "codemirror_mode": {
    "name": "ipython",
    "version": 3
   },
   "file_extension": ".py",
   "mimetype": "text/x-python",
   "name": "python",
   "nbconvert_exporter": "python",
   "pygments_lexer": "ipython3",
   "version": "3.12.7"
  }
 },
 "nbformat": 4,
 "nbformat_minor": 2
}
